{
 "cells": [
  {
   "cell_type": "markdown",
   "metadata": {},
   "source": [
    "# Variance, Covariance and Correlation\n",
    "\n",
    "## Introduction\n",
    "\n",
    "In this lesson, we will be looking at how **Variance** of a random variable can be used to define two other very important \"statistical measures\" called **Covariance** and **Correlation**.  These measures are used in Statistics to tell us how random variables relate to each other, and to what extent they are related.  \n",
    "\n",
    "More specifically, if we want to find out whether or not two random variables are related to each other, we can use the **Covariance** equation to a.) find out if the two variables are linearly related, and then we can use the **Correlation** equation to tell us *by how much* the two variables actually relate to one another.  Notice that the **Covariance** calculation will just tell us whether our two variables depend on each other, and cannot tell us *by how much* the data sets are related.\n",
    "\n",
    "<br>\n",
    "<details>\n",
    "<summary>Let's Get Started!</summary>\n",
    "<br>\n",
    "Let's begin by recalling the fact that a data set is a collection of numbers that represent the outputs of a random variable.  So, when you hear data set, think \"random variable\".  Also recall that the mean is the value you get after you average all of the data points, together with their probabilities.  \n",
    "    \n",
    "One last thing before we really get started.  We know this lesson covers dense and difficult topics, and I have provided some review materials, as well as explicit examples, in dropdown boxes that will you help develop an intuitive understanding of **Variance**, **Covariance**, and **Correlation**, as well as help you steer clear of common misunderstandings and mistakes.\n",
    "</details>\n",
    "\n",
    "\n",
    "## Objectives\n",
    "\n",
    "You will be able to:\n",
    "\n",
    "* Understand and explain data variance and how it relates to standard deviation\n",
    "* Understand and calculate the Covariance and the Correlation between two random variables\n",
    "* Visualize and interpret the results of Covariance and Correlation\n",
    "\n",
    "## What is Variance ($\\sigma^2$)\n",
    "\n",
    "To begin with, **Variance** is a measure on a single random varible, and I have provided a quick review of random variables for those who might benefit from it before we continue.\n",
    "\n",
    "<br>\n",
    "\n",
    "<details>\n",
    "<summary>Review of Random Variables</summary>\n",
    "\n",
    "At the end of the day, random variables represent sets of numbers assigned to the outcomes of a probabilistic process.  Let's set the stage with the necessary ingredients we need to define random variables.  1.) We have a set of events, 2.) we have the outcomes of those events, 3.) we have numbers assigned to the outcomes of each event, and 4.) each event outcome occurs with a given probability.  Putting ingredients 1 and 4 together gives you what is called a probabilistic process.  Here is a specific example of a probabilistic process to help you think about random variables in a more intuitive way.\n",
    "   + **Example**\n",
    "When we roll a die, we have the *possibility* of landing on one of the 6 sides of the die.  As it happens, we have an equal chance of landing on any of those 6 sides (i.e. there is the same probability for the die to land on any of its 6 sides).  So, we have 1.) a set of events (i.e. rolls of the die), 2.) the possible outcomes of those events (i.e. 6 possible sides to land on), 3.) we have a number assigned to each possible event outcome (i.e. the numbers 1-6), and 4.) each possible event outcome happens with a given probability (i.e. there is a 1/6 probability of landing on any side).  Rolling a die n times is a probabilistic process, where each outcome is assigned a number value (1-6).  The important thing to focus on here are the *sets of numbers* you get after you roll the die a number of times.  This is your data set.\n",
    "\n",
    "For more practice with variance, see **Exercise 1** at the end of the lesson.\n",
    "</details>\n",
    "\n",
    "#### Back to Variance!\n",
    "\n",
    "Now, let's talk about what calculating the **Variance** of a random variable means.  To begin with, when we calculate **Variance**, we are essentially asking the question, \"__Given the relationship between all of the collected data points, how far away from the mean do we expect the next data point to be?__\"  \n",
    "\n",
    "This idea of our data points being \"near,\" or \"far,\" from the mean is central to understanding what variance tells us about our data set.  Let's look at the example of rolling a single die in this next dropdown.\n",
    "\n",
    "<br>\n",
    "\n",
    "<details>\n",
    "<summary>Variance example 1</summary>\n",
    "Using the example of rolling a die again, we can start to see that it's somewhat natural to talk about a data point being \"far away from,\" or \"close to,\" the mean. \n",
    "\n",
    "+ To begin with, we can see that each side of the die has an equal probability of occurring, or being *realized*.  This means that if we roll the die a lot of times, we can just take the simple average of the numbers to get the mean of roughly 3.5.  However, no matter how many times you roll the die, you would not expect to see the die land on a side with 3.5.\n",
    "\n",
    "Now ask yourself, \"How does the set of numbers I end up with after I roll a 6 sided die many times relate to the mean of 3.5?\"  Are your numbers \"near,\" or \"far,\" from the mean?  In many practical applications, we want a precise answer to this question. Fortunately, we just have to calculate the **Variance** of the random variable.  For more practice with this example, see **Exercise 1** and **Exercise 2** at the end of the lesson.\n",
    "</details>\n",
    "\n",
    "It should be clear that data points can be thought of as being \"near,\" or \"far,\" from the mean, and how finding a way to actually measure *how far* our data points are from the mean is extremely important.  This is especially true if you are trying to predict future, unknown values of a random variable.  Calculating the **Variance** of a random variable tells us, on average, how far our data points are from the mean.  The \"distance\" from the mean is called the **error term**, and it's what variance is measuring.  Another way to think about variance is as the __spread of a data set__, and it can be equivalently defined as:\n",
    "\n",
    "> __Variance is a measure used to quantify how much a random variable deviates from its mean value__. \n",
    "\n",
    "This is just another way of saying that variance can be used to measure how *spread out* our data points are from the mean.  The math symbol that represents variance is $\\sigma^2$.  Previously, we have seen $\\sigma$ as a measure of standard deviation within a given dataset. Remember that the standard deviation is also a measure of the spread of your data. __Variance is simply the square of standard deviation (or we could say standard deviation is is the square root of variance)__.  \n",
    "\n",
    "\n",
    "### How to Calculate Variance? \n",
    "\n",
    "Variance is calculated by:\n",
    "1. Taking the differences between each element (i.e. point) in a data set and the mean, \n",
    "2. Squaring those differences to give it a positive value\n",
    "3. Dividing the sum of the resulting squares by the number of values (i.e. points) in the set.\n",
    "\n",
    "$$\\sigma^2 = \\frac{\\sum(x-\\mu)^2}{n}$$\n",
    "\n",
    "Here, $x$ represents an individual data point, $\\mu$ represents the mean of the data, and $n$ is the total number of data points. Remember that while calculating a sample variance, in order to estimate a population variance, the denominator of the variance equation becomes n - 1. This removes bias from the estimation, as it prohibits the researcher from underestimating the population variance.\n",
    "\n",
    "The following illustration summarizes how the spread of data around the mean (which is 10) relates to the variance.  Given the three graphs (Red, Green, Purple), can you guess which graph has the highest variance?  What about the lowest? \n",
    "\n",
    "<img src=\"images/var2.png\" width=500>\n",
    "\n",
    "<br>\n",
    "\n",
    "<details>\n",
    "<summary>Answers</summary>\n",
    "<br>\n",
    "The Purple graph has the highest variance.\n",
    "The Red graph has the lowest variance.\n",
    "</details>\n",
    "\n",
    "### Interpreting Variance \n",
    "\n",
    "A variance value of zero represents that all of the values within a data set are identical, while all variances that are not equal to zero will come in the form of positive numbers. The larger the variance, the more spread out the data points are, relative to the mean. A large variance means that the numbers in your data set are far from the mean, as well as each other.  A small variance means that the numbers are closer together in value. \n",
    "\n",
    "### Example Use Case\n",
    "\n",
    "For example, you could look at how variance is applied to a simple market research activity, where predicted future events are each associated with a given probability.  These probabilities tell us the likelihood  (e.g. \"very likely\" or \"unlikely\") that each predicted event will occur.  People tend to be risk averse, in that most people try to minimize the amount of risk they take while they earn a desirable return on their investment.  If investors generally didn't care about how much risk they took on when investing money, they would not be influenced by the differences between stock A and stock B above.  This definitely contrasts the case where the risk-averse investor would clearly prefer stock A. \n",
    "\n",
    "Therefore, people commonly want to know the range or dispersion (i.e. spread/deviation as we termed it earlier) of the possible outcomes compared to their means, as well as the likelihood of certain outcomes to occur.  Variance, as a measure, is a great way to find all of the possible values and likelihoods that a random variable can take within a given range, defined by the underlying data.  Consider the following graphs for Conglomo, Inc. and Bilco, Inc. These graphs show the theoretical frequency distributions of the monthly returns for each firm's common stock as though the returns were normally distributed.\n",
    "\n",
    "<img src=\"images/var.png\" width=400>\n",
    "\n",
    "Conglomo's distribution of returns is more concentrated than Bilco's, as illustrated by Conglomo's relatively wider bell curve. A more concentrated distribution (i.e. one with a higher peak in the center) is defined as having a smaller standard deviation. The distribution curve appears higher, steeper, and narrower because more observations are occurring close to the expected value (i.e. mean). Bilco's distribution is rather flat, reflecting that its returns are less concentrated, or more dispersed, than those of Conglomo Inc.  This means that there is a greater variation of the data away from the mean.\n",
    "\n",
    "<br>\n",
    "\n",
    "<details>\n",
    "<summary>Quick Review of Variance</summary>\n",
    "<br>    \n",
    "When working with random variables, we need a way to find out how \"near\", or \"far\", from the mean our set of numbers are.  Or in other words, we need to be able to find out how \"spread out\" our data points are when compared to the mean.  This natural way of talking about how \"close\" our numbers are to the mean gives us a new kind of distance measure that tells us exactly how \"far\" from the mean our set of numbers are, and we call this measure the variance.\n",
    "</details>\n",
    "\n",
    "\n",
    "## Covariance ($\\sigma_{xy}$)\n",
    "\n",
    "Now that we know what variance is and what quantity it measures, imagine calculating the variance of two random variables to get some idea about how they change together (or stay the same), considering all of the data points.\n",
    "\n",
    "In Stats, if we are trying to figure out how two random variables tend to **vary** together, we are effectively talking about the **Covariance** between these variables. Covariance provides an insight into how two variables are __related__ to one another. \n",
    "\n",
    "More precisely, covariance refers to:\n",
    "> The measure of how two random variables in a data set will __change together__. \n",
    "  \n",
    "### How to calculate Covariance ?\n",
    "In essence, covariance is used to measure how much variables **change together**, and is calculated using the formula:\n",
    "\n",
    "\n",
    "$$ \\large \\sigma_{XY} = \\frac{\\sum_{i=1}^{n}(x_i -\\mu_x)(y_i - \\mu_y)}{n}$$\n",
    "\n",
    "Here $X$ and $Y$ are two random variables having n elements each. We want to calculate ___how much $Y$ depends on $X$___ (or vice-versa), by measuring how values in $Y$ vary with observed variations in $X$ values. \n",
    "\n",
    "> This makes $X$ our __independent variable__ and $Y$, the __dependent variable__.  \n",
    "\n",
    "$x_i$ = ith element of variable $X$\n",
    "\n",
    "$y_i$ = ith element of variable $Y$\n",
    "\n",
    "$n$ = number of data points (__$n$ must be same for $X$ and $Y$__)\n",
    "\n",
    "$\\mu_x$ = mean of the independent variable $X$\n",
    "\n",
    "$\\mu_y$ = mean of the dependent variable $Y$\n",
    "\n",
    "$\\sigma_{XY}$ = Covariance between $X$ and $Y$\n",
    "\n",
    "We can see that the above formula calculates the covariance of $X$ and $Y$ by multiplying the variance of each of their corresponding elements (check the variance formula above). This is why we use the term __Co-Variance__.\n",
    "\n",
    "\n",
    "### Interpreting Covariance values \n",
    "\n",
    "* A positive covariance indicates that **higher than average** values of one variable tend to pair with higher than average values of the other variable.\n",
    "\n",
    "* Negative covariance indicates that higher than average values of one variable tend to pair with **lower than average** values of the other variable. \n",
    "\n",
    "* a zero value, or values close to zero indicate no covariance (i.e. no values from one variable can be paired with values of second variable). \n",
    "\n",
    "This behavior can be further explained using the scatter plots below\n",
    "<img src=\"images/covariance.gif\" width=500>\n",
    "\n",
    "A large negative covariance value show an inverse relationship between values at x and y axes. i.e. y decreases as x increases. This is shown by the scatter plot on the left. The middle scatter plot shows values spread all over the plot, reflecting the fact that variables on x and y axes can not be related in terms of how they vary together. The covariance value for such variables would be very close to zero. In the scatter plot on right, we see a strong relationship between values at x and y axes (i.e. y increases as x increases). \n",
    "\n",
    ">__Covariance is not standardized. Therefore, covariance values can range from negative infinity to positive infinity.__\n",
    "\n",
    "\n",
    "## Correlation \n",
    "\n",
    "We just saw that covariance can help us figure out how two different random variables tend to vary in relation to each other, but notice how calculating covariance depends on the units of $X$ and $Y$ variables. This is not exactly desirable, since two data sets measured with different units cannot be directly compared.  \n",
    "\n",
    "To solve this problem, we only need to normalize the *degree of variation* into a standard unit, so that the results of our calculation no longer depdend on the units of the data sets.  This is why correlation is defined as covariance, normalized by the square rooted product of the standard deviations of $X$ and $Y$. This normalization helps us set the scale from 0 to 1. The correlation between $X$ and $Y$ is calculated as:\n",
    "\n",
    "$$Correlation(X,Y) = \\frac{\\sigma_{X,Y}}{\\sigma_X\\sigma_Y}$$\n",
    "\n",
    ">When two random variables **Correlate**, this reflects the fact that the change in one variable **affects** the change in the values of the second variable. \n",
    "\n",
    "In practice, data scientists typically rely on correlation rather than covariance because it is more interpretable, as correlation measures don't depend on the units of either random variable involved.\n",
    "\n",
    "### Use Cases\n",
    "\n",
    "\n",
    "#### Social Media and Websites\n",
    "Digital publishers want to maximize their understanding of the potential relationship between social media activity and visits to their website. For example, the digital publisher will run the correlation report between hourly Twitter mentions and website visits for a two week period.  The correlation is found to be r = 0.28, and this indicates a medium, positive relationship between Twitter mentions and website visits.\n",
    "\n",
    "#### Optimization for E-retailers\n",
    "E-retailers are interested in driving increased revenue. For example, an e-retailer wants to compare a number of secondary success events (e.g., file downloads, product detail page views, internal search click-throughs, etc.) with weekly web revenue. They can quickly identify internal search click-throughs as having the highest correlation, which may indicate an area for optimization.\n",
    "\n",
    "### Types of Correlation Measures\n",
    "\n",
    "__Coefficient of correlation__, __r__, called the linear correlation coefficient, measures the strength and the direction of a linear relationship between two random variables. It also known as the __Pearson correlation coefficient__. \n",
    "\n",
    "In statistics, we measure four types of correlations for detailed relationship analysis: \n",
    "* Pearson correlation \n",
    "* Kendall Rank correlation \n",
    "* Spearman correlation\n",
    "* Point-Biserial correlation. \n",
    "\n",
    "\n",
    "For now, we shall focus on the Pearson correlation measure, as it is the go-to correlation measure for most needs. Pearson __r__ correlation is the most widely used correlation statistic to measure the degree to which two random variables are *linearly* related.  When using the Pearson __r__ correlation, both variables should be normally distributed (normally distributed variables have a bell-shaped curve that represents the probability distribution). Other assumptions include linearity and homoscedasticity. Linearity assumes a straight line relationship between each of the two variables, and homoscedasticity assumes that data is equally distributed about the regression line.\n",
    "\n",
    "\n",
    "### Calculating Coefficient of Correlation (r)\n",
    "\n",
    "Pearson Correlation (__r__) is calculated using following formula :\n",
    "\n",
    "$$ r = \\frac{\\sum_{i=1}^{n}(x_i -\\mu_x)(y_i - \\mu_y)} {\\sqrt{(\\sum_{i=1}^{n}x_i - \\mu_x)^2 (\\sum_{i=1}^{n}y_i-\\mu_y)^2}}$$\n",
    "\n",
    "So just like in the case of covariance,  $X$ and $Y$ are two random variables having n elements each. \n",
    "\n",
    "\n",
    "$x_i$ = ith element of variable $X$\n",
    "\n",
    "$y_i$ = ith element of variable $Y$\n",
    "\n",
    "$n$ = number of data points (__$n$ must be same for $X$ and $Y$__)\n",
    "\n",
    "$\\mu_x$ = mean of the independent variable $X$\n",
    "\n",
    "$\\mu_y$ = mean of the dependent variable $Y$\n",
    "\n",
    "$r$ = Calculated Pearson Correlation\n",
    "\n",
    "\n",
    "Here $X$ and $Y$ are the random variables, while $\\mu_x$ and $\\mu_y$ are the mean values for $X$ and $Y$, respectively. A detailed mathematical explaination of this equation is available [in this paper](http://www.hep.ph.ic.ac.uk/~hallg/UG_2015/Pearsons.pdf)\n",
    "\n",
    "\n",
    "### Interpreting Correlation values\n",
    "\n",
    "> __Correlation formula shown above always gives values in a range between -1 and 1__\n",
    "\n",
    "If two variables have a correlation value of +0.9, this means the change in one variable results in an almost similar change to the other variable. A correlation value of -0.9 means that the change is one item results in an opposite change seen in the other item. A pearson correlation near 0 would show that there was no linear relationship observed between the variation of each of the two random variables. Here are some example of Pearson correlation calculations as scatter plots. \n",
    "<img src=\"images/pearson_2.png\" width=500>\n",
    "\n",
    "Think about stock markets in terms of correlation. All the stock market indexes tend to move together in similar directions. When the DOW Jones loses 5%, the S&P 500 usually loses around 5%. When the DOW Jones gains 5%, the S&P 500 usually gains around 5% because they are **highly correlated**.\n",
    "\n",
    "On the other hand, there could also be negative correlation where you might observe that as the DOW Jones loses 5% of it value, Gold might gain 5%. Alternatively, if the Dow Jones gains 5% of its value, Gold may lose 5% of its value. That's **negative correlation**. \n",
    "\n",
    "### So how do these measures relate to each other ?\n",
    "\n",
    "Are covariance and correlation the same thing? Simply put, no.  While both covariance and correlation indicate whether variables are positively or inversely related to each other, they are not considered to be the same. This is because correlation also informs you about *the degree to which* the variables tend to vary with respect to one another. \n",
    "\n",
    "In other words, covariance can be used to measure variables that have different units of measurement. And then by leveraging covariance, analysts are able to determine whether units are increasing or decreasing, but they are unable to solidify the degree to which the variables are moving together due to the fact that covariance does not use one standardized unit of measurement.  Correlation, on the other hand, standardizes the measure of interdependence between two random variables, and informs researchers as to how closely the two variables tend to change together.\n",
    "\n",
    "## Summary\n",
    "\n",
    "This lesson was designed to help you understand how to use three important statistical measures by showing you 1.) how to figure out if there is a linear relationship between two different random variables, and 2.) how to figure out the degree to which these two sets of data tend to *deviate* from their mean so that you can directly compare them.\n",
    "\n",
    "We also saw how variance can be used to calculate covariance, and how covariance can then be used to define a correlation measure telling us how the deviation in one variable effects the deviation of another variable.  Next, we shall see how we can use correlation analysis to run a __regression analysis__, and later, how covariance calculations help us with dimensionality reduction. \n",
    "\n",
    "\n",
    "\n",
    "## Further Examples\n"
   ]
  },
  {
   "cell_type": "markdown",
   "metadata": {},
   "source": [
    "**Exercise 1**\n",
    "In this exercise, you will simulate rolling a single, 6 sided die 500 times by running the Python code in the next cell.  You will see list of numbers between 1 and 6.  Each number represents the outcome of rolling the die once."
   ]
  },
  {
   "cell_type": "code",
   "execution_count": 43,
   "metadata": {},
   "outputs": [],
   "source": [
    "import numpy as np\n",
    "import matplotlib.pyplot as plt \n",
    "%matplotlib inline"
   ]
  },
  {
   "cell_type": "code",
   "execution_count": 49,
   "metadata": {},
   "outputs": [
    {
     "name": "stdout",
     "output_type": "stream",
     "text": [
      "[3 4 6 6 5 3 2 3 2 3 6 2 6 1 2 4 2 5 6 1 4 6 3 3 6 2 3 3 3 4 4 1 1 3 4 1 4\n",
      " 2 2 4 2 2 6 4 2 4 1 4 1 6 2 5 5 4 3 6 5 5 1 6 6 2 6 6 2 6 1 6 2 4 4 5 4 4\n",
      " 6 4 3 6 3 5 3 2 6 4 5 1 6 6 5 5 5 4 2 3 5 4 5 6 3 4 2 5 4 1 6 4 4 2 2 4 3\n",
      " 2 1 4 3 3 6 5 1 4 1 4 2 4 2 3 5 6 2 1 2 3 4 4 4 5 4 2 4 3 3 6 3 4 1 2 1 6\n",
      " 2 5 4 6 3 2 1 2 2 3 1 1 4 4 6 2 5 2 2 3 2 6 1 1 2 3 1 6 2 2 2 3 4 1 2 2 5\n",
      " 1 4 3 3 2 6 5 5 4 5 6 4 2 1 4 3 4 1 1 5 2 5 1 4 1 2 2 6 5 4 4 5 2 1 2 4 1\n",
      " 1 1 5 5 2 3 3 5 2 2 5 4 3 1 5 2 3 5 1 5 3 1 3 6 3 2 2 2 3 5 4 1 4 2 5 4 2\n",
      " 4 6 3 1 6 1 2 4 6 1 2 3 4 5 4 1 6 5 4 4 5 1 2 3 4 4 6 2 4 6 3 5 4 6 2 2 1\n",
      " 3 3 4 4 3 2 4 6 4 6 1 6 5 2 2 5 3 6 2 2 2 2 4 1 3 1 4 6 2 2 3 3 1 6 6 5 3\n",
      " 2 1 5 3 2 4 6 6 6 5 3 6 6 4 5 2 1 5 5 5 3 4 6 2 5 3 4 6 1 6 6 6 5 3 3 4 2\n",
      " 5 1 4 6 3 3 4 6 4 2 6 5 5 4 6 6 6 5 6 1 3 1 5 1 6 4 1 6 3 2 3 6 3 6 6 1 5\n",
      " 3 1 3 4 3 2 3 3 4 4 4 4 6 1 1 1 3 4 5 1 3 6 2 1 4 5 2 4 4 2 3 2 4 6 1 2 6\n",
      " 1 4 2 6 3 1 1 3 6 4 6 2 3 6 4 1 1 5 2 3 2 4 6 2 5 1 3 4 1 6 3 2 1 2 6 6 2\n",
      " 6 1 2 1 5 2 1 4 5 4 6 1 1 1 2 3 1 1 2]\n"
     ]
    }
   ],
   "source": [
    "#(lowest number in range, highest number in range +1, number of samples/data points)\n",
    "roll_die2 = np.random.randint(1,7,500)\n",
    "roll_die2\n",
    "print(roll_die2)"
   ]
  },
  {
   "cell_type": "markdown",
   "metadata": {},
   "source": [
    "**Exercise 2**\n",
    "Use the mean and variance functions in Python to calculate the mean and variance of your data set from **Exercise 1**.  Notice that the mean is always close to 3.5.  What happens when you change this parameter  in the code above, and why?"
   ]
  },
  {
   "cell_type": "code",
   "execution_count": 50,
   "metadata": {},
   "outputs": [
    {
     "name": "stdout",
     "output_type": "stream",
     "text": [
      "3.442\n",
      "2.8706360000000006\n"
     ]
    }
   ],
   "source": [
    "np.mean(roll_die2)\n",
    "print(np.mean(roll_die2))\n",
    "np.var(roll_die2)\n",
    "print(np.var(roll_die2))"
   ]
  },
  {
   "cell_type": "markdown",
   "metadata": {},
   "source": [
    "**Exercise 3**\n",
    "Here, you will run the code in the cell below to simulate flipping a coin.  This simulation is also called a 1-D random walker.  You can imagine being on a 1-D number line at the origin.  After flipping the coin, heads is assigned the value 1 and tails is assigned a -1.  The simulation flips the coin 55 times (try and adjust this parameter), and then tells you the total sum of your moves."
   ]
  },
  {
   "cell_type": "code",
   "execution_count": 52,
   "metadata": {},
   "outputs": [
    {
     "name": "stdout",
     "output_type": "stream",
     "text": [
      "[1, -1, 1, -1, -1, 1, 1, -1, 1, 1, -1, -1, 1, 1, -1, -1, -1, -1, 1, 1, 1, 1, 1, 1, 1, -1, 1, -1, 1, -1, 1, 1, -1, 1, -1, 1, -1, -1, -1, 1, -1, 1, 1, 1, 1, -1, 1, -1, -1, -1, -1, 1, 1, 1, 1]\n",
      "7\n"
     ]
    }
   ],
   "source": [
    "#(mean, standard deviation, number of samples/data points)\n",
    "y = np.random.normal(0,1,55)\n",
    "Coin_Flip = []\n",
    "for i in y:\n",
    "    if i < 0:\n",
    "        Coin_Flip.append(-1)\n",
    "    else:\n",
    "        Coin_Flip.append(1)\n",
    "\n",
    "print(Coin_Flip)\n",
    "np.sum(Coin_Flip)\n",
    "print(np.sum(Coin_Flip))"
   ]
  },
  {
   "cell_type": "code",
   "execution_count": null,
   "metadata": {},
   "outputs": [],
   "source": []
  },
  {
   "cell_type": "markdown",
   "metadata": {},
   "source": [
    "**Exercise 3** \n",
    "This Python code calculates the distance you travel after flipping the coin a number of times, over and over. So you end up with a list of 399 distances traveled after flipping the coin some fixed number of times."
   ]
  },
  {
   "cell_type": "code",
   "execution_count": 41,
   "metadata": {},
   "outputs": [],
   "source": [
    "Dists = []\n",
    "for j in range(400):\n",
    "    y = np.random.normal(0,1,399)\n",
    "    Coin_Flip = []\n",
    "    for i in y:\n",
    "        if i < 0:\n",
    "            Coin_Flip.append(-1)\n",
    "        else:\n",
    "            Coin_Flip.append(1)\n",
    "    Dists.append(np.sum(Coin_Flip))"
   ]
  },
  {
   "cell_type": "code",
   "execution_count": 37,
   "metadata": {},
   "outputs": [
    {
     "name": "stdout",
     "output_type": "stream",
     "text": [
      "[-15, -7, 21, -11, 27, 29, 3, -7, 37, -7, 11, -1, -23, -9, 13, -25, 49, 3, -35, -33, -21, 5, 21, 5, -23, 1, -17, -17, 9, 17, 5, -9, -15, -27, 1, -21, -31, 13, 21, -7, 21, 43, -13, 31, 15, 1, 11, 15, 17, 11, 7, 39, 11, -13, -9, 17, 11, 11, -3, 17, 17, -5, 19, 13, 21, 11, 5, -21, 5, 9, 5, -7, 5, -15, 33, 5, 7, 57, 15, -9, 29, -7, 1, -7, 13, 11, -19, -15, -1, -13, 9, 31, 13, -15, -23, -21, -9, 11, -7, -11, 13, -47, -3, 13, -27, -11, -21, 5, 3, -3, 7, -37, 5, 3, 3, -9, -1, -17, 5, -29, -1, -11, -3, -1, -25, -21, -9, -11, -1, -9, 41, -5, -27, -21, -11, 19, -27, -5, -15, -1, 1, -25, 15, -3, 11, -7, -1, -5, 23, -15, 35, -5, -23, -35, -23, -19, -7, 23, -9, -11, -13, -19, 13, -23, 35, 39, -9, -9, 51, 13, -9, 1, 5, 11, 3, -21, -23, -5, -45, 17, 35, 3, -11, 21, 39, -3, -7, -7, -27, -17, -39, 23, -7, -15, 5, -33, -31, 5, 19, 9, -3, 15, 7, 19, 43, -1, 49, 7, 27, -11, 29, 29, 15, -23, -3, 29, -9, 45, 27, 3, -5, -11, 13, 1, -19, -25, 29, -11, -3, -15, -11, -29, 1, 7, 15, 19, -7, 15, 7, -21, 27, -27, 9, 27, 27, 27, 9, 5, 9, 53, -7, 1, -35, 7, 5, 37, -37, -21, 31, -13, 23, 13, 19, 7, -5, -1, 27, -1, 3, 27, 1, 25, 7, -1, -27, -23, 19, 3, -3, 13, 31, -9, -11, 31, -33, 7, 27, -19, -9, 7, 35, -35, -9, 7, 1, -15, -23, -19, 15, 57, 11, 1, 45, -1, 19, 5, -1, 9, -11, 15, 15, 19, -15, -5, -9, 3, 19, 21, 3, -43, -17, -1, -13, 11, -27, -25, 23, -5, 3, -5, 17, -17, 37, -1, 3, 13, -37, 11, -3, -3, 27, 41, -13, 1, 5, 13, 25, 15, -31, -33, 3, -21, 25, -21, 25, 19, -15, -35, 45, -9, 23, -11, -7, 5, -7, 11, 19, 21, 7, -19, 17, -1, -13, 27, 21, 27, 1, -39, -15, 9, -5, 27, -11, 13, -21, 11, -31, -35, 17, 29, 3, 5, -17, -23, 9, -5, 11, 35, 37, -19]\n"
     ]
    }
   ],
   "source": [
    "print(Dists)"
   ]
  },
  {
   "cell_type": "markdown",
   "metadata": {},
   "source": [
    "**Exercise 4** \n",
    "Now use this Python code to calculate the mean of the distances traveled, the variance of the distances traveled, as well as plot the histogram of the distances."
   ]
  },
  {
   "cell_type": "code",
   "execution_count": 42,
   "metadata": {},
   "outputs": [
    {
     "name": "stdout",
     "output_type": "stream",
     "text": [
      "-1.08\n",
      "384.5536\n"
     ]
    },
    {
     "data": {
      "text/plain": [
       "(array([  4.,  15.,  39.,  77.,  86., 105.,  43.,  26.,   4.,   1.]),\n",
       " array([-59. , -46.6, -34.2, -21.8,  -9.4,   3. ,  15.4,  27.8,  40.2,\n",
       "         52.6,  65. ]),\n",
       " <a list of 10 Patch objects>)"
      ]
     },
     "execution_count": 42,
     "metadata": {},
     "output_type": "execute_result"
    },
    {
     "data": {
      "image/png": "[encoded data removed]",
      "text/plain": [
       "<Figure size 432x288 with 1 Axes>"
      ]
     },
     "metadata": {
      "needs_background": "light"
     },
     "output_type": "display_data"
    }
   ],
   "source": [
    "np.mean(Dists)\n",
    "print(np.mean(Dists))\n",
    "np.var(Dists)\n",
    "print(np.var(Dists))\n",
    "plt.hist(Dists)"
   ]
  },
  {
   "cell_type": "markdown",
   "metadata": {},
   "source": [
    "**More Practice**\n",
    "Here are two random variables first plotted individually, and then plotted together.  See the **Exercise 4** to calculate the covariance, as well as correlation, between these two graphs of random variables."
   ]
  },
  {
   "cell_type": "code",
   "execution_count": 5,
   "metadata": {},
   "outputs": [
    {
     "name": "stdout",
     "output_type": "stream",
     "text": [
      "[<matplotlib.lines.Line2D object at 0x1178db978>]\n"
     ]
    },
    {
     "data": {
      "image/png": "[encoded data removed]",
      "text/plain": [
       "<Figure size 432x288 with 1 Axes>"
      ]
     },
     "metadata": {
      "needs_background": "light"
     },
     "output_type": "display_data"
    }
   ],
   "source": [
    "x2 = np.array([.01, .25, .333, .5, .75, 1, 1.5, 2])\n",
    "y2 = 3*np.sin(np.pi*x2)\n",
    "\n",
    "plt.plot(x2, y2)\n",
    "\n",
    "print(plt.plot(x2, y2))"
   ]
  },
  {
   "cell_type": "code",
   "execution_count": 6,
   "metadata": {},
   "outputs": [
    {
     "name": "stdout",
     "output_type": "stream",
     "text": [
      "[<matplotlib.lines.Line2D object at 0x1179d70f0>]\n"
     ]
    },
    {
     "data": {
      "image/png": "[encoded data removed]",
      "text/plain": [
       "<Figure size 432x288 with 1 Axes>"
      ]
     },
     "metadata": {
      "needs_background": "light"
     },
     "output_type": "display_data"
    }
   ],
   "source": [
    "x2 = np.array([.01, .25, .333, .5, .75, 1, 1.5, 2])\n",
    "y3 = -3*np.sin(np.pi*x2)\n",
    "\n",
    "plt.plot(x2, y3)\n",
    "\n",
    "print(plt.plot(x2, y3))"
   ]
  },
  {
   "cell_type": "code",
   "execution_count": 7,
   "metadata": {},
   "outputs": [
    {
     "name": "stdout",
     "output_type": "stream",
     "text": [
      "[<matplotlib.lines.Line2D object at 0x117aaea20>]\n",
      "[<matplotlib.lines.Line2D object at 0x117b53f28>]\n"
     ]
    },
    {
     "data": {
      "image/png": "[encoded data removed]",
      "text/plain": [
       "<Figure size 432x288 with 1 Axes>"
      ]
     },
     "metadata": {
      "needs_background": "light"
     },
     "output_type": "display_data"
    }
   ],
   "source": [
    "x2 = np.array([.01, .25, .333, .5, .75, 1, 1.5, 2])\n",
    "y2 = 3*np.sin(np.pi*x2)\n",
    "\n",
    "plt.plot(x2, y2)\n",
    "\n",
    "print(plt.plot(x2, y2))\n",
    "\n",
    "x2 = np.array([.01, .25, .333, .5, .75, 1, 1.5, 2])\n",
    "y3 = -3*np.sin(np.pi*x2)\n",
    "\n",
    "plt.plot(x2, y3)\n",
    "\n",
    "print(plt.plot(x2, y3))"
   ]
  },
  {
   "cell_type": "markdown",
   "metadata": {},
   "source": [
    " **Exercise 4** \n",
    " Here is the code to calculate the covariance and correlation between random variables $y_2$ and $y_3$.  The cell below explains how to interpret these results in Python."
   ]
  },
  {
   "cell_type": "code",
   "execution_count": 8,
   "metadata": {},
   "outputs": [
    {
     "name": "stdout",
     "output_type": "stream",
     "text": [
      "[[ 3.96310689 -3.96310689]\n",
      " [-3.96310689  3.96310689]]\n",
      "[[ 1. -1.]\n",
      " [-1.  1.]]\n"
     ]
    }
   ],
   "source": [
    "np.cov(y2, y3)\n",
    "print(np.cov(y2, y3))\n",
    "\n",
    "np.corrcoef(y2, y3)\n",
    "print(np.corrcoef(y2, y3))"
   ]
  },
  {
   "cell_type": "markdown",
   "metadata": {},
   "source": [
    "To understand the code in the cell above, we must know that numpy outputs a matrix for covariance and correlation calculations.  The covariance matrix looks like: \n",
    "$$\\begin{pmatrix} Cov(X,X) & Cov(X,Y) \\\\ Cov(Y,X) & Cov(Y,Y) \\end{pmatrix} = \\begin{pmatrix} Var(X) & Cov(X,Y) \\\\ Cov(Y,X) & Var(Y) \\end{pmatrix}$$\n",
    "\n",
    "And the correlation matrix takes the form:\n",
    "\n",
    "$$\\begin{pmatrix} Cor(X,X) & Cor(X,Y) \\\\ Cor(Y,X) & Cor(Y,Y) \\end{pmatrix}$$"
   ]
  },
  {
   "cell_type": "markdown",
   "metadata": {},
   "source": [
    "**Exercise 5**\n",
    "Here is another plot of two random variables. Calculate the covariance and correlation between them in the last cell."
   ]
  },
  {
   "cell_type": "code",
   "execution_count": 4,
   "metadata": {},
   "outputs": [
    {
     "name": "stdout",
     "output_type": "stream",
     "text": [
      "[<matplotlib.lines.Line2D object at 0x121129080>]\n",
      "[<matplotlib.lines.Line2D object at 0x1213bbc18>]\n"
     ]
    },
    {
     "data": {
      "image/png": "[encoded data removed]",
      "text/plain": [
       "<Figure size 432x288 with 1 Axes>"
      ]
     },
     "metadata": {
      "needs_background": "light"
     },
     "output_type": "display_data"
    }
   ],
   "source": [
    "x3 = np.array([0.0001, 0.001, .01, .002, .02, .03, .04, .05, .06, .07, .08, .09, .1, .11, .12, .19, .2, .202, .22, .25, .333, .5, .75, 1, 1.5, 2])\n",
    "y6 = 2.5 - 3*np.sin(np.pi*x3 - .4*np.pi)\n",
    "\n",
    "plt.plot(x3, y6)\n",
    "\n",
    "print(plt.plot(x3, y6))\n",
    "\n",
    "x3 = np.array([0.0001, 0.001, .01, .002, .02, .03, .04, .05, .06, .07, .08, .09, .1, .11, .12, .19, .2, .202, .22, .25, .333, .5, .75, 1, 1.5, 2])\n",
    "y7 = 4*np.sin(np.pi*x3)\n",
    "\n",
    "plt.plot(x3, y7)\n",
    "\n",
    "print(plt.plot(x3, y7))"
   ]
  },
  {
   "cell_type": "code",
   "execution_count": 3,
   "metadata": {},
   "outputs": [
    {
     "name": "stdout",
     "output_type": "stream",
     "text": [
      "[[ 2.54676364 -0.72544781]\n",
      " [-0.72544781  2.46895477]]\n",
      "[[ 1.         -0.28930457]\n",
      " [-0.28930457  1.        ]]\n"
     ]
    }
   ],
   "source": [
    "np.cov(y6, y7)\n",
    "print(np.cov(y6, y7))\n",
    "\n",
    "np.corrcoef(y6, y7)\n",
    "print(np.corrcoef(y6, y7))"
   ]
  },
  {
   "cell_type": "markdown",
   "metadata": {},
   "source": []
  }
 ],
 "metadata": {
  "kernelspec": {
   "display_name": "Python 3",
   "language": "python",
   "name": "python3"
  },
  "language_info": {
   "codemirror_mode": {
    "name": "ipython",
    "version": 3
   },
   "file_extension": ".py",
   "mimetype": "text/x-python",
   "name": "python",
   "nbconvert_exporter": "python",
   "pygments_lexer": "ipython3",
   "version": "3.7.3"
  }
 },
 "nbformat": 4,
 "nbformat_minor": 2
}
